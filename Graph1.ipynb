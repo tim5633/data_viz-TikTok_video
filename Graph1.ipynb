{
 "cells": [
  {
   "cell_type": "markdown",
   "metadata": {
    "ExecuteTime": {
     "end_time": "2021-11-12T23:49:08.587178Z",
     "start_time": "2021-11-12T23:49:07.163452Z"
    }
   },
   "source": [
    "# Data Processing"
   ]
  },
  {
   "cell_type": "code",
   "execution_count": 24,
   "metadata": {
    "ExecuteTime": {
     "end_time": "2021-11-15T21:08:07.553176Z",
     "start_time": "2021-11-15T21:08:07.549916Z"
    }
   },
   "outputs": [],
   "source": [
    "import json\n",
    "import numpy as np\n",
    "import pandas as pd\n",
    "import matplotlib.pyplot as plt\n",
    "import re\n",
    "import regex as re\n",
    "import re\n",
    "import regex\n",
    "from sklearn.preprocessing import MinMaxScaler         #scaling & normalization\n",
    "from sklearn.preprocessing import StandardScaler\n",
    "# scaler = StandardScaler()\n",
    "from scipy.interpolate import make_interp_spline\n",
    "# from sklearn.preprocessing import OrdinalEncoder"
   ]
  },
  {
   "cell_type": "code",
   "execution_count": 25,
   "metadata": {
    "ExecuteTime": {
     "end_time": "2021-11-15T21:08:08.094926Z",
     "start_time": "2021-11-15T21:08:08.052660Z"
    }
   },
   "outputs": [],
   "source": [
    "# (2) Reading json file\n",
    "with open('trending.json','r',encoding='UTF-8') as load_f:\n",
    "    load_dict=json.load(load_f)\n",
    "    \n",
    "# (3) Selecting the 'collector' list as main dataset\n",
    "load_dict=load_dict['collector']\n",
    "# load_dict[1]"
   ]
  },
  {
   "cell_type": "code",
   "execution_count": 26,
   "metadata": {
    "ExecuteTime": {
     "end_time": "2021-11-15T21:08:13.362852Z",
     "start_time": "2021-11-15T21:08:08.417611Z"
    }
   },
   "outputs": [],
   "source": [
    "# (4) Appending data in json to dataframe\n",
    "df=pd.DataFrame(columns=load_dict[0].keys())\n",
    "for dict in load_dict:\n",
    "    df=df.append(dict,ignore_index=True)\n",
    "\n",
    "# Before we deal with dictionaries nested in columns, we have noticed \n",
    "# that there will be two columns named 'id' in dataset. To avoid \n",
    "# potential information loss, we rename one of those columns to 'Id'.\n",
    "# df.rename(columns={'id':'Id'},inplace=True)"
   ]
  },
  {
   "cell_type": "code",
   "execution_count": 27,
   "metadata": {
    "ExecuteTime": {
     "end_time": "2021-11-15T21:08:13.662312Z",
     "start_time": "2021-11-15T21:08:13.633481Z"
    }
   },
   "outputs": [],
   "source": [
    "# (5) Dividing the column containing dictionaries into new columns.\n",
    "def dict_to_column(df,columns):\n",
    "    for i in df[columns][0].keys():\n",
    "        df[re.sub('Meta','',columns)+'_'+i]=[j[i] for j in df[columns]]\n",
    "    df.drop(columns,axis=1,inplace=True)\n",
    "    return df\n",
    "\n",
    "def dict_parse(df):\n",
    "    for i in df.keys():\n",
    "        if type(df[i][0])==type({}) and df[i][0]!={}:\n",
    "            df=dict_to_column(df,i)\n",
    "    return df\n",
    "        \n",
    "df=dict_parse(df)"
   ]
  },
  {
   "cell_type": "code",
   "execution_count": 28,
   "metadata": {
    "ExecuteTime": {
     "end_time": "2021-11-15T21:08:13.934471Z",
     "start_time": "2021-11-15T21:08:13.928286Z"
    }
   },
   "outputs": [],
   "source": [
    "import time\n",
    "df['createTime']=[time.strftime('%Y-%m-%d %H:%M:%S', time.localtime(i)) for i in df['createTime']]"
   ]
  },
  {
   "cell_type": "markdown",
   "metadata": {},
   "source": [
    "# Check the number of celebrities from wikipedia"
   ]
  },
  {
   "cell_type": "code",
   "execution_count": 29,
   "metadata": {
    "ExecuteTime": {
     "end_time": "2021-11-15T21:08:15.777071Z",
     "start_time": "2021-11-15T21:08:15.708530Z"
    }
   },
   "outputs": [
    {
     "data": {
      "text/html": [
       "<div>\n",
       "<style scoped>\n",
       "    .dataframe tbody tr th:only-of-type {\n",
       "        vertical-align: middle;\n",
       "    }\n",
       "\n",
       "    .dataframe tbody tr th {\n",
       "        vertical-align: top;\n",
       "    }\n",
       "\n",
       "    .dataframe thead th {\n",
       "        text-align: right;\n",
       "    }\n",
       "</style>\n",
       "<table border=\"1\" class=\"dataframe\">\n",
       "  <thead>\n",
       "    <tr style=\"text-align: right;\">\n",
       "      <th></th>\n",
       "      <th>id</th>\n",
       "      <th>video_duration</th>\n",
       "      <th>authorMeta/name</th>\n",
       "      <th>yes_or_no</th>\n",
       "    </tr>\n",
       "  </thead>\n",
       "  <tbody>\n",
       "    <tr>\n",
       "      <th>0</th>\n",
       "      <td>6906845094473649410</td>\n",
       "      <td>53</td>\n",
       "      <td>kylethomas</td>\n",
       "      <td>1.0</td>\n",
       "    </tr>\n",
       "    <tr>\n",
       "      <th>1</th>\n",
       "      <td>6905530005711768833</td>\n",
       "      <td>15</td>\n",
       "      <td>kylethomas</td>\n",
       "      <td>1.0</td>\n",
       "    </tr>\n",
       "    <tr>\n",
       "      <th>2</th>\n",
       "      <td>6904976916437044482</td>\n",
       "      <td>59</td>\n",
       "      <td>kylethomas</td>\n",
       "      <td>1.0</td>\n",
       "    </tr>\n",
       "    <tr>\n",
       "      <th>3</th>\n",
       "      <td>6906885936366259457</td>\n",
       "      <td>25</td>\n",
       "      <td>kylethomas</td>\n",
       "      <td>1.0</td>\n",
       "    </tr>\n",
       "    <tr>\n",
       "      <th>4</th>\n",
       "      <td>6908292605101051137</td>\n",
       "      <td>15</td>\n",
       "      <td>youneszarou</td>\n",
       "      <td>1.0</td>\n",
       "    </tr>\n",
       "    <tr>\n",
       "      <th>5</th>\n",
       "      <td>6895082457968725249</td>\n",
       "      <td>7</td>\n",
       "      <td>thekiryalife</td>\n",
       "      <td>1.0</td>\n",
       "    </tr>\n",
       "    <tr>\n",
       "      <th>6</th>\n",
       "      <td>6907966191059356929</td>\n",
       "      <td>25</td>\n",
       "      <td>thekiryalife</td>\n",
       "      <td>1.0</td>\n",
       "    </tr>\n",
       "    <tr>\n",
       "      <th>7</th>\n",
       "      <td>6885766692627107077</td>\n",
       "      <td>12</td>\n",
       "      <td>spencerx</td>\n",
       "      <td>1.0</td>\n",
       "    </tr>\n",
       "    <tr>\n",
       "      <th>8</th>\n",
       "      <td>6882769301615496450</td>\n",
       "      <td>27</td>\n",
       "      <td>kallmekris</td>\n",
       "      <td>1.0</td>\n",
       "    </tr>\n",
       "    <tr>\n",
       "      <th>9</th>\n",
       "      <td>6894081763379924229</td>\n",
       "      <td>9</td>\n",
       "      <td>billieeilish</td>\n",
       "      <td>1.0</td>\n",
       "    </tr>\n",
       "  </tbody>\n",
       "</table>\n",
       "</div>"
      ],
      "text/plain": [
       "                    id  video_duration authorMeta/name  yes_or_no\n",
       "0  6906845094473649410              53      kylethomas        1.0\n",
       "1  6905530005711768833              15      kylethomas        1.0\n",
       "2  6904976916437044482              59      kylethomas        1.0\n",
       "3  6906885936366259457              25      kylethomas        1.0\n",
       "4  6908292605101051137              15     youneszarou        1.0\n",
       "5  6895082457968725249               7    thekiryalife        1.0\n",
       "6  6907966191059356929              25    thekiryalife        1.0\n",
       "7  6885766692627107077              12        spencerx        1.0\n",
       "8  6882769301615496450              27      kallmekris        1.0\n",
       "9  6894081763379924229               9    billieeilish        1.0"
      ]
     },
     "execution_count": 29,
     "metadata": {},
     "output_type": "execute_result"
    }
   ],
   "source": [
    "df_trending = pd.read_csv('trending.csv')\n",
    "df_top50_name = pd.read_csv('celebrity_list.csv')\n",
    "df_top50 = df_top50_name.rename(columns={'Username': 'authorMeta/name'})\n",
    "df_top50\n",
    "\n",
    "df_name = df_trending[['id','authorMeta/name']]\n",
    "df_name['id'].apply(pd.to_numeric)\n",
    "df_video_length = df[['id','video_duration']]\n",
    "df_video_length = df_video_length.apply(pd.to_numeric)\n",
    "df_name_info = pd.merge(df_video_length,df_name, how=\"inner\")\n",
    "df_cele = pd.merge(df_name_info,df_top50, how=\"inner\")\n",
    "df_cele\n",
    "#https://en.wikipedia.org/wiki/List_of_most-followed_TikTok_accounts"
   ]
  },
  {
   "cell_type": "markdown",
   "metadata": {},
   "source": [
    "# Plot of post engagement vs video length"
   ]
  },
  {
   "cell_type": "code",
   "execution_count": 32,
   "metadata": {
    "ExecuteTime": {
     "end_time": "2021-11-15T21:09:50.257792Z",
     "start_time": "2021-11-15T21:09:50.130013Z"
    }
   },
   "outputs": [
    {
     "data": {
      "text/html": [
       "<div>\n",
       "<style scoped>\n",
       "    .dataframe tbody tr th:only-of-type {\n",
       "        vertical-align: middle;\n",
       "    }\n",
       "\n",
       "    .dataframe tbody tr th {\n",
       "        vertical-align: top;\n",
       "    }\n",
       "\n",
       "    .dataframe thead th {\n",
       "        text-align: right;\n",
       "    }\n",
       "</style>\n",
       "<table border=\"1\" class=\"dataframe\">\n",
       "  <thead>\n",
       "    <tr style=\"text-align: right;\">\n",
       "      <th></th>\n",
       "      <th>diggCount</th>\n",
       "      <th>shareCount</th>\n",
       "      <th>playCount</th>\n",
       "      <th>commentCount</th>\n",
       "      <th>video_duration</th>\n",
       "    </tr>\n",
       "  </thead>\n",
       "  <tbody>\n",
       "    <tr>\n",
       "      <th>1</th>\n",
       "      <td>0.356753</td>\n",
       "      <td>0.838125</td>\n",
       "      <td>0.481277</td>\n",
       "      <td>0.356195</td>\n",
       "      <td>0.000000</td>\n",
       "    </tr>\n",
       "    <tr>\n",
       "      <th>2</th>\n",
       "      <td>0.204747</td>\n",
       "      <td>0.378873</td>\n",
       "      <td>0.378449</td>\n",
       "      <td>0.082571</td>\n",
       "      <td>0.066067</td>\n",
       "    </tr>\n",
       "    <tr>\n",
       "      <th>3</th>\n",
       "      <td>0.352098</td>\n",
       "      <td>0.457273</td>\n",
       "      <td>0.531282</td>\n",
       "      <td>0.388944</td>\n",
       "      <td>0.161756</td>\n",
       "    </tr>\n",
       "    <tr>\n",
       "      <th>4</th>\n",
       "      <td>0.677729</td>\n",
       "      <td>1.000000</td>\n",
       "      <td>0.854301</td>\n",
       "      <td>1.000000</td>\n",
       "      <td>0.242867</td>\n",
       "    </tr>\n",
       "    <tr>\n",
       "      <th>5</th>\n",
       "      <td>1.000000</td>\n",
       "      <td>0.863183</td>\n",
       "      <td>1.000000</td>\n",
       "      <td>0.656771</td>\n",
       "      <td>0.332776</td>\n",
       "    </tr>\n",
       "    <tr>\n",
       "      <th>6</th>\n",
       "      <td>0.802200</td>\n",
       "      <td>0.478407</td>\n",
       "      <td>0.546287</td>\n",
       "      <td>0.703752</td>\n",
       "      <td>0.440614</td>\n",
       "    </tr>\n",
       "    <tr>\n",
       "      <th>7</th>\n",
       "      <td>0.024918</td>\n",
       "      <td>0.151477</td>\n",
       "      <td>0.000000</td>\n",
       "      <td>0.020754</td>\n",
       "      <td>0.526111</td>\n",
       "    </tr>\n",
       "    <tr>\n",
       "      <th>8</th>\n",
       "      <td>0.735793</td>\n",
       "      <td>0.294680</td>\n",
       "      <td>0.399978</td>\n",
       "      <td>0.365872</td>\n",
       "      <td>0.615022</td>\n",
       "    </tr>\n",
       "    <tr>\n",
       "      <th>9</th>\n",
       "      <td>0.000000</td>\n",
       "      <td>0.000000</td>\n",
       "      <td>0.023584</td>\n",
       "      <td>0.000000</td>\n",
       "      <td>0.703264</td>\n",
       "    </tr>\n",
       "    <tr>\n",
       "      <th>10</th>\n",
       "      <td>0.116485</td>\n",
       "      <td>0.175064</td>\n",
       "      <td>0.149173</td>\n",
       "      <td>0.668323</td>\n",
       "      <td>0.796003</td>\n",
       "    </tr>\n",
       "    <tr>\n",
       "      <th>11</th>\n",
       "      <td>0.560053</td>\n",
       "      <td>0.158844</td>\n",
       "      <td>0.249320</td>\n",
       "      <td>0.737199</td>\n",
       "      <td>0.901963</td>\n",
       "    </tr>\n",
       "    <tr>\n",
       "      <th>12</th>\n",
       "      <td>0.123089</td>\n",
       "      <td>0.278057</td>\n",
       "      <td>0.118312</td>\n",
       "      <td>0.420405</td>\n",
       "      <td>1.000000</td>\n",
       "    </tr>\n",
       "  </tbody>\n",
       "</table>\n",
       "</div>"
      ],
      "text/plain": [
       "    diggCount  shareCount  playCount  commentCount  video_duration\n",
       "1    0.356753    0.838125   0.481277      0.356195        0.000000\n",
       "2    0.204747    0.378873   0.378449      0.082571        0.066067\n",
       "3    0.352098    0.457273   0.531282      0.388944        0.161756\n",
       "4    0.677729    1.000000   0.854301      1.000000        0.242867\n",
       "5    1.000000    0.863183   1.000000      0.656771        0.332776\n",
       "6    0.802200    0.478407   0.546287      0.703752        0.440614\n",
       "7    0.024918    0.151477   0.000000      0.020754        0.526111\n",
       "8    0.735793    0.294680   0.399978      0.365872        0.615022\n",
       "9    0.000000    0.000000   0.023584      0.000000        0.703264\n",
       "10   0.116485    0.175064   0.149173      0.668323        0.796003\n",
       "11   0.560053    0.158844   0.249320      0.737199        0.901963\n",
       "12   0.123089    0.278057   0.118312      0.420405        1.000000"
      ]
     },
     "execution_count": 32,
     "metadata": {},
     "output_type": "execute_result"
    }
   ],
   "source": [
    "# (1) Data Processing\n",
    "##to numeric\n",
    "df['diggCount'] = df['diggCount'].apply(pd.to_numeric)\n",
    "df['shareCount'] = df['shareCount'].apply(pd.to_numeric)\n",
    "df['playCount'] = df['playCount'].apply(pd.to_numeric)\n",
    "df['commentCount'] = df['commentCount'].apply(pd.to_numeric)\n",
    "df['video_duration'] = df['video_duration'].apply(pd.to_numeric)\n",
    "df_engage = df[['diggCount','shareCount','playCount','commentCount','video_duration']]\n",
    "##remove outliers\n",
    "from scipy import stats\n",
    "df_engage_clean = df_engage[(np.abs(stats.zscore(df_engage)) < 3).all(axis=1)]\n",
    "##remove other top 10 diggcount video(too much bias)\n",
    "df_engage_clean2_1 = df_engage_clean.sort_values(by='video_duration', ascending=False)\n",
    "df_engage_clean2 = df_engage_clean2_1.sort_values('diggCount', ascending=False)\n",
    "df_engage_clean2.drop(index=61, columns=None, inplace=True)\n",
    "df_engage_clean2.drop(index=430, columns=None, inplace=True)\n",
    "df_engage_clean2.drop(index=244, columns=None, inplace=True)\n",
    "df_engage_clean2.drop(index=2, columns=None, inplace=True)\n",
    "df_engage_clean2.drop(index=129, columns=None, inplace=True)\n",
    "df_engage_clean2.drop(index=95, columns=None, inplace=True)\n",
    "df_engage_clean2.drop(index=194, columns=None, inplace=True)\n",
    "df_engage_clean2.drop(index=375, columns=None, inplace=True)\n",
    "df_engage_clean2.drop(index=529, columns=None, inplace=True)\n",
    "df_engage_clean2.drop(index=560, columns=None, inplace=True)\n",
    "\n",
    "# (2) seprate the groups for line plot\n",
    "##set bin\n",
    "bins = [0, 5, 10, 15, 20, 25, 30, 35, 40, 45, 50, 55, 60]\n",
    "group_names = ['1','2','3','4','5','6','7','8','9','10','11','12']\n",
    "df_engage_clean2['group'] = pd.cut(df_engage_clean2['video_duration'], bins, labels=group_names)\n",
    "##get every average of groups\n",
    "g1 = df_engage_clean2[df_engage_clean2['group']=='1'].mean().to_frame().T\n",
    "g2 = df_engage_clean2[df_engage_clean2['group']=='2'].mean().to_frame().T\n",
    "g3 = df_engage_clean2[df_engage_clean2['group']=='3'].mean().to_frame().T\n",
    "g4 = df_engage_clean2[df_engage_clean2['group']=='4'].mean().to_frame().T\n",
    "g5 = df_engage_clean2[df_engage_clean2['group']=='5'].mean().to_frame().T\n",
    "g6 = df_engage_clean2[df_engage_clean2['group']=='6'].mean().to_frame().T\n",
    "g7 = df_engage_clean2[df_engage_clean2['group']=='7'].mean().to_frame().T\n",
    "g8 = df_engage_clean2[df_engage_clean2['group']=='8'].mean().to_frame().T\n",
    "g9 = df_engage_clean2[df_engage_clean2['group']=='9'].mean().to_frame().T\n",
    "g10 = df_engage_clean2[df_engage_clean2['group']=='10'].mean().to_frame().T\n",
    "g11 = df_engage_clean2[df_engage_clean2['group']=='11'].mean().to_frame().T\n",
    "g12 = df_engage_clean2[df_engage_clean2['group']=='12'].mean().to_frame().T\n",
    "## all together\n",
    "df_mean = pd.concat([g1,g2,g3,g4,g5,g6,g7,g8,g9,g10,g11,g12])\n",
    "## Normalization so can plot and see trend\n",
    "scaler = MinMaxScaler()\n",
    "df_mean[['diggCount', 'shareCount', 'playCount', 'commentCount','video_duration']] = scaler.fit_transform(df_mean[['diggCount', 'shareCount', 'playCount', 'commentCount','video_duration']])\n",
    "df_mean\n",
    "##reset index\n",
    "s = pd.Series([1,2,3,4,5,6,7,8,9,10,11,12])\n",
    "df_mean.set_index([s])"
   ]
  },
  {
   "cell_type": "code",
   "execution_count": 33,
   "metadata": {
    "ExecuteTime": {
     "end_time": "2021-11-15T21:10:03.864042Z",
     "start_time": "2021-11-15T21:10:03.851053Z"
    }
   },
   "outputs": [
    {
     "data": {
      "text/plain": [
       "[14, 251, 370, 83, 58, 47, 28, 14, 22, 11, 26, 51]"
      ]
     },
     "execution_count": 33,
     "metadata": {},
     "output_type": "execute_result"
    }
   ],
   "source": [
    "# (2) get every video have created of groups for bar plot\n",
    "l1 = df_engage_clean2[df_engage_clean2['group']=='1'].shape[0]\n",
    "l2 = df_engage_clean2[df_engage_clean2['group']=='2'].shape[0]\n",
    "l3 = df_engage_clean2[df_engage_clean2['group']=='3'].shape[0]\n",
    "l4 = df_engage_clean2[df_engage_clean2['group']=='4'].shape[0]\n",
    "l5 = df_engage_clean2[df_engage_clean2['group']=='5'].shape[0]\n",
    "l6 = df_engage_clean2[df_engage_clean2['group']=='6'].shape[0]\n",
    "l7 = df_engage_clean2[df_engage_clean2['group']=='7'].shape[0]\n",
    "l8 = df_engage_clean2[df_engage_clean2['group']=='8'].shape[0]\n",
    "l9 = df_engage_clean2[df_engage_clean2['group']=='9'].shape[0]\n",
    "l10 = df_engage_clean2[df_engage_clean2['group']=='10'].shape[0]\n",
    "l11 = df_engage_clean2[df_engage_clean2['group']=='11'].shape[0]\n",
    "l12 = df_engage_clean2[df_engage_clean2['group']=='12'].shape[0]\n",
    "\n",
    "group_count = [l1,l2,l3,l4,l5,l6,l7,l8,l9,l10,l11,l12]\n",
    "group_count"
   ]
  },
  {
   "cell_type": "code",
   "execution_count": 40,
   "metadata": {
    "ExecuteTime": {
     "end_time": "2021-11-15T22:01:27.277298Z",
     "start_time": "2021-11-15T22:01:27.273871Z"
    }
   },
   "outputs": [
    {
     "data": {
      "text/plain": [
       "370"
      ]
     },
     "execution_count": 40,
     "metadata": {},
     "output_type": "execute_result"
    }
   ],
   "source": [
    "#the highest count of video group\n",
    "l3"
   ]
  },
  {
   "cell_type": "markdown",
   "metadata": {},
   "source": [
    "# Plotting out"
   ]
  },
  {
   "cell_type": "code",
   "execution_count": 42,
   "metadata": {
    "ExecuteTime": {
     "end_time": "2021-11-15T22:59:11.764418Z",
     "start_time": "2021-11-15T22:59:11.291160Z"
    }
   },
   "outputs": [
    {
     "name": "stderr",
     "output_type": "stream",
     "text": [
      "No handles with labels found to put in legend.\n"
     ]
    },
    {
     "data": {
      "image/png": "[encoded data removed]",
      "text/plain": [
       "<Figure size 792x504 with 2 Axes>"
      ]
     },
     "metadata": {
      "needs_background": "light"
     },
     "output_type": "display_data"
    }
   ],
   "source": [
    "# (1) some variable might use for plot\n",
    "x = ['0~5s','6~10s','11~15s','16~20s','21~25s','26~30s','31~35s','36~40s','41~45s','46~50s','51~55s','56~60s']\n",
    "x_average = ['4.92s', '8.45s', '13.57s', '17.90s',\n",
    "             '22.70s', '28.46s', '33.03s', '37.78s',\n",
    "             '42.50s', '47.45s', '53.11s', '58.35s']\n",
    "x_pos = [0,1,2,3,4,5,6,7,8,9,10,11]\n",
    "label = ['playCount','shareCount','diggCount','commentCount', 'video counts & average length']\n",
    "\n",
    "# (2) preset\n",
    "##create figure\n",
    "fig = plt.figure(figsize=(11, 7))\n",
    "\n",
    "# (3) line plot\n",
    "##create plot\n",
    "ax = fig.add_subplot(111)\n",
    "\n",
    "plt.scatter(x, df_mean['playCount'], c='darkred')\n",
    "param = np.linspace(0, 1, len(x))\n",
    "spl = make_interp_spline(param, np.c_[x_pos,df_mean['playCount']], k=2)\n",
    "xnew, y_smooth = spl(np.linspace(0, 1, len(x) * 100)).T\n",
    "plt.plot(xnew, y_smooth, c= 'lightcoral', label=label[0])\n",
    "\n",
    "plt.scatter(x, df_mean['shareCount'], c='darkorange')\n",
    "param = np.linspace(0, 1, len(x))\n",
    "spl = make_interp_spline(param, np.c_[x_pos,df_mean['shareCount']], k=2)\n",
    "xnew, y_smooth = spl(np.linspace(0, 1, len(x) * 100)).T\n",
    "plt.plot(xnew, y_smooth, c= 'sandybrown', label=label[1])\n",
    "\n",
    "plt.scatter(x, df_mean['diggCount'], c='darkgreen')\n",
    "param = np.linspace(0, 1, len(x))\n",
    "spl = make_interp_spline(param, np.c_[x_pos,df_mean['diggCount']], k=2)\n",
    "xnew, y_smooth = spl(np.linspace(0, 1, len(x) * 100)).T\n",
    "plt.plot(xnew, y_smooth, c= 'lightgreen', label=label[2])\n",
    "\n",
    "plt.scatter(x, df_mean['commentCount'], c='darkblue')\n",
    "param = np.linspace(0, 1, len(x))\n",
    "spl = make_interp_spline(param, np.c_[x_pos,df_mean['commentCount']], k=2)\n",
    "xnew, y_smooth = spl(np.linspace(0, 1, len(x) * 100)).T\n",
    "plt.plot(xnew, y_smooth, c= 'lightblue', label=label[3])\n",
    "\n",
    "## aest\n",
    "ax.spines['right'].set_visible(False)\n",
    "ax.spines['left'].set_visible(False)\n",
    "ax.spines['top'].set_visible(False)\n",
    "ax.spines['bottom'].set_visible(False)\n",
    "\n",
    "## axes\n",
    "### Peak annotate\n",
    "ax.annotate(\"Engagement Peak\", xy=(3,1.05), xytext=(3,1.05), weight='bold',\n",
    "            size = 11 , color=\"Teal\", ) #arrowprops=dict(arrowstyle='->',fc=\"black\", ec=\"black\", alpha=0.2)\n",
    "ax.annotate(\"Video Length Peak\", xy=(0.7,1.15), xytext=(0.7,1.15), weight='bold',\n",
    "            size = 11 , color=\"Teal\", )\n",
    "### 2nd Peak annotate\n",
    "ax.annotate(\"Digg 2nd Peak\", xy=(6,0.76), xytext=(6,0.76), \n",
    "            size = 8 , color=\"lightgreen\", )\n",
    "ax.annotate(\"Comment 2nd Peak\", xy=(10,0.76), xytext=(10,0.76), \n",
    "            size = 8 , color=\"lightblue\", )\n",
    "ax.annotate(\"Share 2nd Peak\", xy=(-0.5,0.87), xytext=(-0.5,0.87), \n",
    "            size = 8 , color=\"sandybrown\", )\n",
    "ax.annotate(\"Play 2nd Peak\", xy=(-0.8,0.87), xytext=(-0.8,0.53), \n",
    "            size = 8 , color=\"lightcoral\", )\n",
    "### other axes\n",
    "plt.title(\"TikTok Trending\\nVideo Length Tendency and Engagement\")\n",
    "ax.set_yticks(np.linspace(ax.get_yticks()[0], ax.get_yticks()[-1], len(axs.get_yticks())))\n",
    "ax.set_xlabel('Average Length of\\nGroup Sparing With 5sec')\n",
    "ax.set_ylabel('Average Engagement Counts\\nNormalizing Score')\n",
    "ax.set_xticks(x)\n",
    "\n",
    "\n",
    "\n",
    "# (3) bar plots: econdary ax\n",
    "axs = ax.twinx()\n",
    "axs.bar(x, group_count, color='Teal' , alpha=0.4, zorder=2, ) #label=label[4]\n",
    "\n",
    "## aest\n",
    "axs.spines['right'].set_visible(False)\n",
    "axs.spines['left'].set_visible(False)\n",
    "axs.spines['top'].set_visible(False)\n",
    "axs.spines['bottom'].set_visible(False)\n",
    "\n",
    "## axes\n",
    "axs.set_yticks(np.linspace(axs.get_yticks()[0], axs.get_yticks()[-1], len(ax.get_yticks())))\n",
    "axs.set_ylabel('Number of Video Posts\\nIn Every Group')\n",
    "for i, v in enumerate(group_count):\n",
    "    axs.text(x_pos[i] - 0.35, v + 2, x_average[i], color='Teal', fontweight='bold',alpha=0.4, zorder=2)\n",
    "\n",
    "\n",
    "\n",
    "# (4) show plot\n",
    "ax.legend()\n",
    "axs.legend()\n",
    "plt.grid()\n",
    "plt.show()"
   ]
  },
  {
   "cell_type": "markdown",
   "metadata": {},
   "source": [
    "# Check why 36~40s does have a peak"
   ]
  },
  {
   "cell_type": "code",
   "execution_count": 273,
   "metadata": {
    "ExecuteTime": {
     "end_time": "2021-11-13T12:45:35.641471Z",
     "start_time": "2021-11-13T12:45:35.631996Z"
    }
   },
   "outputs": [
    {
     "data": {
      "text/html": [
       "<div>\n",
       "<style scoped>\n",
       "    .dataframe tbody tr th:only-of-type {\n",
       "        vertical-align: middle;\n",
       "    }\n",
       "\n",
       "    .dataframe tbody tr th {\n",
       "        vertical-align: top;\n",
       "    }\n",
       "\n",
       "    .dataframe thead th {\n",
       "        text-align: right;\n",
       "    }\n",
       "</style>\n",
       "<table border=\"1\" class=\"dataframe\">\n",
       "  <thead>\n",
       "    <tr style=\"text-align: right;\">\n",
       "      <th></th>\n",
       "      <th>diggCount</th>\n",
       "      <th>shareCount</th>\n",
       "      <th>playCount</th>\n",
       "      <th>commentCount</th>\n",
       "      <th>video_duration</th>\n",
       "      <th>group</th>\n",
       "    </tr>\n",
       "  </thead>\n",
       "  <tbody>\n",
       "    <tr>\n",
       "      <th>887</th>\n",
       "      <td>309900</td>\n",
       "      <td>4888</td>\n",
       "      <td>1500000</td>\n",
       "      <td>2003</td>\n",
       "      <td>36</td>\n",
       "      <td>8</td>\n",
       "    </tr>\n",
       "    <tr>\n",
       "      <th>928</th>\n",
       "      <td>157700</td>\n",
       "      <td>386</td>\n",
       "      <td>821200</td>\n",
       "      <td>1314</td>\n",
       "      <td>39</td>\n",
       "      <td>8</td>\n",
       "    </tr>\n",
       "    <tr>\n",
       "      <th>359</th>\n",
       "      <td>20600</td>\n",
       "      <td>240</td>\n",
       "      <td>558900</td>\n",
       "      <td>87</td>\n",
       "      <td>37</td>\n",
       "      <td>8</td>\n",
       "    </tr>\n",
       "    <tr>\n",
       "      <th>226</th>\n",
       "      <td>19700</td>\n",
       "      <td>204</td>\n",
       "      <td>83100</td>\n",
       "      <td>539</td>\n",
       "      <td>37</td>\n",
       "      <td>8</td>\n",
       "    </tr>\n",
       "    <tr>\n",
       "      <th>954</th>\n",
       "      <td>9490</td>\n",
       "      <td>758</td>\n",
       "      <td>383600</td>\n",
       "      <td>134</td>\n",
       "      <td>37</td>\n",
       "      <td>8</td>\n",
       "    </tr>\n",
       "    <tr>\n",
       "      <th>552</th>\n",
       "      <td>9129</td>\n",
       "      <td>59</td>\n",
       "      <td>54500</td>\n",
       "      <td>231</td>\n",
       "      <td>39</td>\n",
       "      <td>8</td>\n",
       "    </tr>\n",
       "    <tr>\n",
       "      <th>70</th>\n",
       "      <td>7508</td>\n",
       "      <td>18</td>\n",
       "      <td>58500</td>\n",
       "      <td>17</td>\n",
       "      <td>37</td>\n",
       "      <td>8</td>\n",
       "    </tr>\n",
       "    <tr>\n",
       "      <th>106</th>\n",
       "      <td>7070</td>\n",
       "      <td>63</td>\n",
       "      <td>97900</td>\n",
       "      <td>222</td>\n",
       "      <td>40</td>\n",
       "      <td>8</td>\n",
       "    </tr>\n",
       "    <tr>\n",
       "      <th>779</th>\n",
       "      <td>6858</td>\n",
       "      <td>48</td>\n",
       "      <td>78500</td>\n",
       "      <td>169</td>\n",
       "      <td>36</td>\n",
       "      <td>8</td>\n",
       "    </tr>\n",
       "    <tr>\n",
       "      <th>216</th>\n",
       "      <td>5845</td>\n",
       "      <td>14</td>\n",
       "      <td>117500</td>\n",
       "      <td>112</td>\n",
       "      <td>39</td>\n",
       "      <td>8</td>\n",
       "    </tr>\n",
       "    <tr>\n",
       "      <th>82</th>\n",
       "      <td>5449</td>\n",
       "      <td>19</td>\n",
       "      <td>63700</td>\n",
       "      <td>131</td>\n",
       "      <td>37</td>\n",
       "      <td>8</td>\n",
       "    </tr>\n",
       "    <tr>\n",
       "      <th>975</th>\n",
       "      <td>3324</td>\n",
       "      <td>28</td>\n",
       "      <td>49100</td>\n",
       "      <td>115</td>\n",
       "      <td>36</td>\n",
       "      <td>8</td>\n",
       "    </tr>\n",
       "    <tr>\n",
       "      <th>694</th>\n",
       "      <td>1443</td>\n",
       "      <td>4</td>\n",
       "      <td>34500</td>\n",
       "      <td>52</td>\n",
       "      <td>40</td>\n",
       "      <td>8</td>\n",
       "    </tr>\n",
       "    <tr>\n",
       "      <th>885</th>\n",
       "      <td>640</td>\n",
       "      <td>20</td>\n",
       "      <td>27500</td>\n",
       "      <td>15</td>\n",
       "      <td>39</td>\n",
       "      <td>8</td>\n",
       "    </tr>\n",
       "  </tbody>\n",
       "</table>\n",
       "</div>"
      ],
      "text/plain": [
       "     diggCount  shareCount  playCount  commentCount  video_duration group\n",
       "887     309900        4888    1500000          2003              36     8\n",
       "928     157700         386     821200          1314              39     8\n",
       "359      20600         240     558900            87              37     8\n",
       "226      19700         204      83100           539              37     8\n",
       "954       9490         758     383600           134              37     8\n",
       "552       9129          59      54500           231              39     8\n",
       "70        7508          18      58500            17              37     8\n",
       "106       7070          63      97900           222              40     8\n",
       "779       6858          48      78500           169              36     8\n",
       "216       5845          14     117500           112              39     8\n",
       "82        5449          19      63700           131              37     8\n",
       "975       3324          28      49100           115              36     8\n",
       "694       1443           4      34500            52              40     8\n",
       "885        640          20      27500            15              39     8"
      ]
     },
     "execution_count": 273,
     "metadata": {},
     "output_type": "execute_result"
    }
   ],
   "source": [
    "df_engage_clean2[df_engage_clean2['group']=='8']"
   ]
  }
 ],
 "metadata": {
  "kernelspec": {
   "display_name": "Python 3",
   "language": "python",
   "name": "python3"
  },
  "language_info": {
   "codemirror_mode": {
    "name": "ipython",
    "version": 3
   },
   "file_extension": ".py",
   "mimetype": "text/x-python",
   "name": "python",
   "nbconvert_exporter": "python",
   "pygments_lexer": "ipython3",
   "version": "3.8.5"
  },
  "toc": {
   "base_numbering": 1,
   "nav_menu": {},
   "number_sections": true,
   "sideBar": true,
   "skip_h1_title": false,
   "title_cell": "Table of Contents",
   "title_sidebar": "Contents",
   "toc_cell": false,
   "toc_position": {},
   "toc_section_display": true,
   "toc_window_display": false
  },
  "varInspector": {
   "cols": {
    "lenName": 16,
    "lenType": 16,
    "lenVar": 40
   },
   "kernels_config": {
    "python": {
     "delete_cmd_postfix": "",
     "delete_cmd_prefix": "del ",
     "library": "var_list.py",
     "varRefreshCmd": "print(var_dic_list())"
    },
    "r": {
     "delete_cmd_postfix": ") ",
     "delete_cmd_prefix": "rm(",
     "library": "var_list.r",
     "varRefreshCmd": "cat(var_dic_list()) "
    }
   },
   "types_to_exclude": [
    "module",
    "function",
    "builtin_function_or_method",
    "instance",
    "_Feature"
   ],
   "window_display": false
  }
 },
 "nbformat": 4,
 "nbformat_minor": 4
}
