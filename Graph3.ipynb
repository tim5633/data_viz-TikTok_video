{
 "cells": [
  {
   "cell_type": "code",
   "execution_count": 5,
   "id": "5807b9bb",
   "metadata": {
    "ExecuteTime": {
     "end_time": "2021-11-16T01:02:03.609113Z",
     "start_time": "2021-11-16T01:02:01.245719Z"
    }
   },
   "outputs": [],
   "source": [
    "# (1) Import libraries\n",
    "import json\n",
    "import pandas as pd\n",
    "import re\n",
    "import numpy as np\n",
    "import seaborn as sns\n",
    "import matplotlib.pyplot as plt\n",
    "import matplotlib as mpl\n",
    "import statsmodels.api as sm\n",
    "import time\n",
    "from datetime import datetime\n",
    "from scipy import stats"
   ]
  },
  {
   "cell_type": "code",
   "execution_count": 6,
   "id": "73dcf331",
   "metadata": {
    "ExecuteTime": {
     "end_time": "2021-11-16T01:02:03.708344Z",
     "start_time": "2021-11-16T01:02:03.655605Z"
    }
   },
   "outputs": [
    {
     "data": {
      "text/plain": [
       "{'id': '6875468410612993286',\n",
       " 'text': 'Quiet Zone... follow me on insta: joeysofo. Comment where you wanna see me blade next. Reply to @dwight_schnuute',\n",
       " 'createTime': 1600819763,\n",
       " 'authorMeta': {'id': '6729292817489986566',\n",
       "  'secUid': 'MS4wLjABAAAAvkCSTiPWJm7Ctqp7AN3mauS_Bi8tVrbtBgnZnQKnc7nero0FEW0piU5AbzUO5nal',\n",
       "  'name': 'joeysofo',\n",
       "  'nickName': 'JoeySofo ',\n",
       "  'verified': False,\n",
       "  'signature': 'Tinder couldn’t help me lose my virginity so Im trying this app now\\nIG: joeysofo',\n",
       "  'avatar': 'https://p16-sign-va.tiktokcdn.com/musically-maliva-obj/c4614893d6e1b8f9c49d08ac5dc01b03~c5_1080x1080.jpeg?x-expires=1608649200&x-signature=HO8A0BXrA26B%2BrlO%2B1QkIfkrwm4%3D'},\n",
       " 'musicMeta': {'musicId': '6678927595137977094',\n",
       "  'musicName': 'Without Me',\n",
       "  'musicAuthor': 'rapidsongs ',\n",
       "  'musicOriginal': True,\n",
       "  'playUrl': 'https://sf77-sg.tiktokcdn.com/obj/musically-maliva-obj/1630596382105654.mp3',\n",
       "  'coverThumb': 'https://p16-sign-sg.tiktokcdn.com/musically-maliva-obj/1654351754080261~c5_100x100.jpeg?x-expires=1608649200&x-signature=MgXVLIF%2FXZQ2Uo4p%2B8utdEBTNm0%3D',\n",
       "  'coverMedium': 'https://p77-sign-sg.tiktokcdn.com/musically-maliva-obj/1654351754080261~c5_720x720.jpeg?x-expires=1608649200&x-signature=7jGj6KszavNWbR0R0pkDw5RWgNQ%3D',\n",
       "  'coverLarge': 'https://p77-sign-sg.tiktokcdn.com/musically-maliva-obj/1654351754080261~c5_1080x1080.jpeg?x-expires=1608649200&x-signature=7znywzF5TGa4VtwvZuwL9UupATM%3D'},\n",
       " 'covers': {'default': 'https://p16-sign-sg.tiktokcdn.com/obj/tos-maliva-p-0068/c5c61cf612474abe8d04c27c77b14498_1600819765?x-expires=1608584400&x-signature=%2BZDKfdd4J7%2BwMIJRsco11J%2F85vo%3D',\n",
       "  'origin': 'https://p16-sign-sg.tiktokcdn.com/obj/tos-maliva-p-0068/9ebab11e097646469e2534d74ea00c5b_1600819764?x-expires=1608584400&x-signature=0WoCfq8e4ktT2tqR1s2RbX2Vovg%3D',\n",
       "  'dynamic': 'https://p16-sign-sg.tiktokcdn.com/obj/tos-maliva-p-0068/a4e831c395554a389c102071802802b1_1600819764?x-expires=1608584400&x-signature=ji4haIieuluZbJXBgUjChE0dKqE%3D'},\n",
       " 'webVideoUrl': 'https://www.tiktok.com/@joeysofo/video/6875468410612993286',\n",
       " 'videoUrl': 'https://v77.tiktokcdn.com/ab935f1975cb8b69aebfa5918e57a25a/5fe11a66/video/tos/useast2a/tos-useast2a-ve-0068c001/74cfc3a81ed144aa9faa80168f460357/?a=1233&br=3380&bt=1690&cd=0%7C0%7C1&cr=0&cs=0&cv=1&dr=0&ds=3&er=&l=2020122115574701019020909243127031&lr=tiktok_m&mime_type=video_mp4&qs=0&rc=MzZmZTxlaDs8dzMzODczM0ApOmQ3NmU3ZmQ0NzkzODpoO2dnNGpfcC9xMWlfLS0vMTZzc18tNTVeLy41M2IwYS4yXy06Yw%3D%3D&vl=&vr=',\n",
       " 'videoUrlNoWaterMark': '',\n",
       " 'videoMeta': {'height': 1024, 'width': 576, 'duration': 11},\n",
       " 'diggCount': 55700,\n",
       " 'shareCount': 1817,\n",
       " 'playCount': 838100,\n",
       " 'commentCount': 936,\n",
       " 'downloaded': True,\n",
       " 'mentions': ['@dwight_schnuute'],\n",
       " 'hashtags': []}"
      ]
     },
     "execution_count": 6,
     "metadata": {},
     "output_type": "execute_result"
    }
   ],
   "source": [
    "# (2) Reading json file\n",
    "with open('trending.json','r',encoding='UTF-8') as load_f:\n",
    "    load_dict=json.load(load_f)\n",
    "    \n",
    "# (3) Selecting the 'collector' list as main dataset\n",
    "load_dict=load_dict['collector']\n",
    "load_dict[1]"
   ]
  },
  {
   "cell_type": "code",
   "execution_count": 7,
   "id": "d6f19f51",
   "metadata": {
    "ExecuteTime": {
     "end_time": "2021-11-16T01:02:07.502864Z",
     "start_time": "2021-11-16T01:02:03.816567Z"
    }
   },
   "outputs": [],
   "source": [
    "# (4) Appending data in json to dataframe\n",
    "df=pd.DataFrame(columns=load_dict[0].keys())\n",
    "for dict in load_dict:\n",
    "    df=df.append(dict,ignore_index=True)\n",
    "\n",
    "# Before we deal with dictionaries nested in columns, we have noticed \n",
    "# that there will be two columns named 'id' in dataset. To avoid \n",
    "# potential information loss, we rename one of those columns to 'Id'.\n",
    "# df.rename(columns={'id':'Id'},inplace=True)"
   ]
  },
  {
   "cell_type": "code",
   "execution_count": 8,
   "id": "c0054ac4",
   "metadata": {
    "ExecuteTime": {
     "end_time": "2021-11-16T01:02:07.662170Z",
     "start_time": "2021-11-16T01:02:07.624577Z"
    }
   },
   "outputs": [],
   "source": [
    "# (5) Dividing the column containing dictionaries into new columns.\n",
    "def dict_to_column(df,columns):\n",
    "    for i in df[columns][0].keys():\n",
    "        df[re.sub('Meta','',columns)+'_'+i]=[j[i] for j in df[columns]]\n",
    "    df.drop(columns,axis=1,inplace=True)\n",
    "    return df\n",
    "\n",
    "def dict_parse(df):\n",
    "    for i in df.keys():\n",
    "        if type(df[i][0])==type({}) and df[i][0]!={}:\n",
    "            df=dict_to_column(df,i)\n",
    "    return df\n",
    "        \n",
    "df=dict_parse(df)"
   ]
  },
  {
   "cell_type": "code",
   "execution_count": 9,
   "id": "8a4ba2ef",
   "metadata": {
    "ExecuteTime": {
     "end_time": "2021-11-16T01:02:07.833755Z",
     "start_time": "2021-11-16T01:02:07.765548Z"
    }
   },
   "outputs": [],
   "source": [
    "# (6) Export the dataframe as csv\n",
    "df.to_csv(\"tiktok_mtp.csv\", index=False)"
   ]
  },
  {
   "cell_type": "code",
   "execution_count": 10,
   "id": "0268f2f3",
   "metadata": {
    "ExecuteTime": {
     "end_time": "2021-11-16T01:02:07.965016Z",
     "start_time": "2021-11-16T01:02:07.933651Z"
    }
   },
   "outputs": [
    {
     "data": {
      "text/html": [
       "<div>\n",
       "<style scoped>\n",
       "    .dataframe tbody tr th:only-of-type {\n",
       "        vertical-align: middle;\n",
       "    }\n",
       "\n",
       "    .dataframe tbody tr th {\n",
       "        vertical-align: top;\n",
       "    }\n",
       "\n",
       "    .dataframe thead th {\n",
       "        text-align: right;\n",
       "    }\n",
       "</style>\n",
       "<table border=\"1\" class=\"dataframe\">\n",
       "  <thead>\n",
       "    <tr style=\"text-align: right;\">\n",
       "      <th></th>\n",
       "      <th>id</th>\n",
       "      <th>text</th>\n",
       "      <th>createTime</th>\n",
       "      <th>webVideoUrl</th>\n",
       "      <th>videoUrl</th>\n",
       "      <th>videoUrlNoWaterMark</th>\n",
       "      <th>diggCount</th>\n",
       "      <th>shareCount</th>\n",
       "      <th>playCount</th>\n",
       "      <th>commentCount</th>\n",
       "      <th>...</th>\n",
       "      <th>music_playUrl</th>\n",
       "      <th>music_coverThumb</th>\n",
       "      <th>music_coverMedium</th>\n",
       "      <th>music_coverLarge</th>\n",
       "      <th>covers_default</th>\n",
       "      <th>covers_origin</th>\n",
       "      <th>covers_dynamic</th>\n",
       "      <th>video_height</th>\n",
       "      <th>video_width</th>\n",
       "      <th>video_duration</th>\n",
       "    </tr>\n",
       "  </thead>\n",
       "  <tbody>\n",
       "    <tr>\n",
       "      <th>0</th>\n",
       "      <td>6907228749016714497</td>\n",
       "      <td>Confidence went 📈</td>\n",
       "      <td>1608214517</td>\n",
       "      <td>https://www.tiktok.com/@ninakleij/video/690722...</td>\n",
       "      <td>https://v77.tiktokcdn.com/ed1f811617d7b5e18b8d...</td>\n",
       "      <td></td>\n",
       "      <td>3710</td>\n",
       "      <td>50</td>\n",
       "      <td>44800</td>\n",
       "      <td>68</td>\n",
       "      <td>...</td>\n",
       "      <td>https://sf16-sg.tiktokcdn.com/obj/tos-alisg-v-...</td>\n",
       "      <td>https://p77-sg.tiktokcdn.com/aweme/100x100/tos...</td>\n",
       "      <td>https://p77-sg.tiktokcdn.com/aweme/200x200/tos...</td>\n",
       "      <td>https://p77-sg.tiktokcdn.com/aweme/720x720/tos...</td>\n",
       "      <td>https://p16-sign-sg.tiktokcdn.com/obj/tos-alis...</td>\n",
       "      <td>https://p16-sign-sg.tiktokcdn.com/obj/tos-alis...</td>\n",
       "      <td>https://p16-sign-sg.tiktokcdn.com/obj/tos-alis...</td>\n",
       "      <td>1024</td>\n",
       "      <td>576</td>\n",
       "      <td>15</td>\n",
       "    </tr>\n",
       "    <tr>\n",
       "      <th>1</th>\n",
       "      <td>6875468410612993286</td>\n",
       "      <td>Quiet Zone... follow me on insta: joeysofo. Co...</td>\n",
       "      <td>1600819763</td>\n",
       "      <td>https://www.tiktok.com/@joeysofo/video/6875468...</td>\n",
       "      <td>https://v77.tiktokcdn.com/ab935f1975cb8b69aebf...</td>\n",
       "      <td></td>\n",
       "      <td>55700</td>\n",
       "      <td>1817</td>\n",
       "      <td>838100</td>\n",
       "      <td>936</td>\n",
       "      <td>...</td>\n",
       "      <td>https://sf77-sg.tiktokcdn.com/obj/musically-ma...</td>\n",
       "      <td>https://p16-sign-sg.tiktokcdn.com/musically-ma...</td>\n",
       "      <td>https://p77-sign-sg.tiktokcdn.com/musically-ma...</td>\n",
       "      <td>https://p77-sign-sg.tiktokcdn.com/musically-ma...</td>\n",
       "      <td>https://p16-sign-sg.tiktokcdn.com/obj/tos-mali...</td>\n",
       "      <td>https://p16-sign-sg.tiktokcdn.com/obj/tos-mali...</td>\n",
       "      <td>https://p16-sign-sg.tiktokcdn.com/obj/tos-mali...</td>\n",
       "      <td>1024</td>\n",
       "      <td>576</td>\n",
       "      <td>11</td>\n",
       "    </tr>\n",
       "    <tr>\n",
       "      <th>2</th>\n",
       "      <td>6898699405898059010</td>\n",
       "      <td>Iphone bend test🤗 #tiktok #viral #fyp #iphone ...</td>\n",
       "      <td>1606228625</td>\n",
       "      <td>https://www.tiktok.com/@jackeyephone/video/689...</td>\n",
       "      <td>https://v21.tiktokcdn.com/video/tos/alisg/tos-...</td>\n",
       "      <td></td>\n",
       "      <td>936200</td>\n",
       "      <td>21100</td>\n",
       "      <td>15300000</td>\n",
       "      <td>27100</td>\n",
       "      <td>...</td>\n",
       "      <td>https://sf16-sg.tiktokcdn.com/obj/tos-alisg-v-...</td>\n",
       "      <td>https://p77-sg.tiktokcdn.com/aweme/100x100/tos...</td>\n",
       "      <td>https://p77-sg.tiktokcdn.com/aweme/200x200/tos...</td>\n",
       "      <td>https://p77-sg.tiktokcdn.com/aweme/720x720/tos...</td>\n",
       "      <td>https://p16-sign-sg.tiktokcdn.com/obj/tos-alis...</td>\n",
       "      <td>https://p16-sign-sg.tiktokcdn.com/obj/tos-alis...</td>\n",
       "      <td>https://p16-sign-sg.tiktokcdn.com/obj/tos-alis...</td>\n",
       "      <td>960</td>\n",
       "      <td>540</td>\n",
       "      <td>19</td>\n",
       "    </tr>\n",
       "    <tr>\n",
       "      <th>3</th>\n",
       "      <td>6902819837345533186</td>\n",
       "      <td></td>\n",
       "      <td>1607187987</td>\n",
       "      <td>https://www.tiktok.com/@naomivaneeren/video/69...</td>\n",
       "      <td>https://v21.tiktokcdn.com/video/tos/alisg/tos-...</td>\n",
       "      <td></td>\n",
       "      <td>12900</td>\n",
       "      <td>197</td>\n",
       "      <td>94900</td>\n",
       "      <td>143</td>\n",
       "      <td>...</td>\n",
       "      <td>https://sf16-sg.tiktokcdn.com/obj/musically-ma...</td>\n",
       "      <td>https://p16-sign-va.tiktokcdn.com/musically-ma...</td>\n",
       "      <td>https://p16-sign-va.tiktokcdn.com/musically-ma...</td>\n",
       "      <td>https://p16-sign-va.tiktokcdn.com/musically-ma...</td>\n",
       "      <td>https://p16-sign-sg.tiktokcdn.com/obj/tos-alis...</td>\n",
       "      <td>https://p16-sign-sg.tiktokcdn.com/obj/tos-alis...</td>\n",
       "      <td>https://p16-sign-sg.tiktokcdn.com/obj/tos-alis...</td>\n",
       "      <td>1024</td>\n",
       "      <td>576</td>\n",
       "      <td>13</td>\n",
       "    </tr>\n",
       "    <tr>\n",
       "      <th>4</th>\n",
       "      <td>6905635666588192002</td>\n",
       "      <td>小技です👟✨#tiktok教室#tutorial</td>\n",
       "      <td>1607843600</td>\n",
       "      <td>https://www.tiktok.com/@io.dreamer_mk/video/69...</td>\n",
       "      <td>https://v77.tiktokcdn.com/7622979a5ceb97c6da4e...</td>\n",
       "      <td></td>\n",
       "      <td>8805</td>\n",
       "      <td>198</td>\n",
       "      <td>115300</td>\n",
       "      <td>52</td>\n",
       "      <td>...</td>\n",
       "      <td>https://sf77-sg.tiktokcdn.com/obj/musically-ma...</td>\n",
       "      <td>https://p16-sign-sg.tiktokcdn.com/musically-ma...</td>\n",
       "      <td>https://p16-sign-sg.tiktokcdn.com/musically-ma...</td>\n",
       "      <td>https://p16-sign-sg.tiktokcdn.com/musically-ma...</td>\n",
       "      <td>https://p16-sign-sg.tiktokcdn.com/obj/tos-alis...</td>\n",
       "      <td>https://p16-sign-sg.tiktokcdn.com/obj/tos-alis...</td>\n",
       "      <td>https://p16-sign-sg.tiktokcdn.com/obj/tos-alis...</td>\n",
       "      <td>1024</td>\n",
       "      <td>576</td>\n",
       "      <td>22</td>\n",
       "    </tr>\n",
       "    <tr>\n",
       "      <th>...</th>\n",
       "      <td>...</td>\n",
       "      <td>...</td>\n",
       "      <td>...</td>\n",
       "      <td>...</td>\n",
       "      <td>...</td>\n",
       "      <td>...</td>\n",
       "      <td>...</td>\n",
       "      <td>...</td>\n",
       "      <td>...</td>\n",
       "      <td>...</td>\n",
       "      <td>...</td>\n",
       "      <td>...</td>\n",
       "      <td>...</td>\n",
       "      <td>...</td>\n",
       "      <td>...</td>\n",
       "      <td>...</td>\n",
       "      <td>...</td>\n",
       "      <td>...</td>\n",
       "      <td>...</td>\n",
       "      <td>...</td>\n",
       "      <td>...</td>\n",
       "    </tr>\n",
       "    <tr>\n",
       "      <th>995</th>\n",
       "      <td>6877191692341054721</td>\n",
       "      <td>#foryou #foryoupage</td>\n",
       "      <td>1601220970</td>\n",
       "      <td>https://www.tiktok.com/@artistmiranda/video/68...</td>\n",
       "      <td>https://v77.tiktokcdn.com/12644d87ac40de1c1ab2...</td>\n",
       "      <td></td>\n",
       "      <td>13300</td>\n",
       "      <td>152</td>\n",
       "      <td>129300</td>\n",
       "      <td>111</td>\n",
       "      <td>...</td>\n",
       "      <td>https://sf77-sg.tiktokcdn.com/obj/musically-ma...</td>\n",
       "      <td>https://p16-sign-sg.tiktokcdn.com/musically-ma...</td>\n",
       "      <td>https://p77-sign-sg.tiktokcdn.com/musically-ma...</td>\n",
       "      <td>https://p16-sign-sg.tiktokcdn.com/musically-ma...</td>\n",
       "      <td>https://p16-sign-sg.tiktokcdn.com/obj/tos-alis...</td>\n",
       "      <td>https://p16-sign-sg.tiktokcdn.com/obj/tos-alis...</td>\n",
       "      <td>https://p16-sign-sg.tiktokcdn.com/obj/tos-alis...</td>\n",
       "      <td>1024</td>\n",
       "      <td>576</td>\n",
       "      <td>13</td>\n",
       "    </tr>\n",
       "    <tr>\n",
       "      <th>996</th>\n",
       "      <td>6908069845825359109</td>\n",
       "      <td>Stop eating 💩 #gttfg #gotothegym #swolefam #nu...</td>\n",
       "      <td>1608410366</td>\n",
       "      <td>https://www.tiktok.com/@papaswolio/video/69080...</td>\n",
       "      <td>https://v77.tiktokcdn.com/740d0b0889f43900715c...</td>\n",
       "      <td></td>\n",
       "      <td>12200</td>\n",
       "      <td>223</td>\n",
       "      <td>80700</td>\n",
       "      <td>321</td>\n",
       "      <td>...</td>\n",
       "      <td>https://sf16-sg.tiktokcdn.com/obj/musically-ma...</td>\n",
       "      <td>https://p16-sign-va.tiktokcdn.com/musically-ma...</td>\n",
       "      <td>https://p16-sign-va.tiktokcdn.com/musically-ma...</td>\n",
       "      <td>https://p16-sign-va.tiktokcdn.com/musically-ma...</td>\n",
       "      <td>https://p16-sign-sg.tiktokcdn.com/obj/tos-mali...</td>\n",
       "      <td>https://p16-sign-sg.tiktokcdn.com/obj/tos-mali...</td>\n",
       "      <td>https://p16-sign-sg.tiktokcdn.com/obj/tos-mali...</td>\n",
       "      <td>1024</td>\n",
       "      <td>576</td>\n",
       "      <td>20</td>\n",
       "    </tr>\n",
       "    <tr>\n",
       "      <th>997</th>\n",
       "      <td>6883484287434378497</td>\n",
       "      <td>#fy #foryoupage #foryou</td>\n",
       "      <td>1602686079</td>\n",
       "      <td>https://www.tiktok.com/@sanaelfarah/video/6883...</td>\n",
       "      <td>https://v77.tiktokcdn.com/eed7b93664d2cfa5b122...</td>\n",
       "      <td></td>\n",
       "      <td>26600</td>\n",
       "      <td>3392</td>\n",
       "      <td>449300</td>\n",
       "      <td>668</td>\n",
       "      <td>...</td>\n",
       "      <td>https://sf16-sg.tiktokcdn.com/obj/musically-ma...</td>\n",
       "      <td>https://p16-sign-sg.tiktokcdn.com/aweme/100x10...</td>\n",
       "      <td>https://p16-sign-sg.tiktokcdn.com/aweme/720x72...</td>\n",
       "      <td>https://p16-sign-sg.tiktokcdn.com/aweme/1080x1...</td>\n",
       "      <td>https://p16-sign-sg.tiktokcdn.com/obj/tos-alis...</td>\n",
       "      <td>https://p16-sign-sg.tiktokcdn.com/obj/tos-alis...</td>\n",
       "      <td>https://p16-sign-sg.tiktokcdn.com/obj/tos-alis...</td>\n",
       "      <td>1024</td>\n",
       "      <td>576</td>\n",
       "      <td>13</td>\n",
       "    </tr>\n",
       "    <tr>\n",
       "      <th>998</th>\n",
       "      <td>6898721943978036481</td>\n",
       "      <td>regretss 📈 #fyp #foryou #curls</td>\n",
       "      <td>1606233872</td>\n",
       "      <td>https://www.tiktok.com/@safae.kx/video/6898721...</td>\n",
       "      <td>https://v77.tiktokcdn.com/a402298fb8ed593ed456...</td>\n",
       "      <td></td>\n",
       "      <td>10000</td>\n",
       "      <td>111</td>\n",
       "      <td>72200</td>\n",
       "      <td>274</td>\n",
       "      <td>...</td>\n",
       "      <td>https://sf16-sg.tiktokcdn.com/obj/musically-ma...</td>\n",
       "      <td>https://p16-sign-va.tiktokcdn.com/musically-ma...</td>\n",
       "      <td>https://p16-sign-va.tiktokcdn.com/musically-ma...</td>\n",
       "      <td>https://p16-sign-va.tiktokcdn.com/musically-ma...</td>\n",
       "      <td>https://p16-sign-sg.tiktokcdn.com/obj/tos-alis...</td>\n",
       "      <td>https://p16-sign-sg.tiktokcdn.com/obj/tos-alis...</td>\n",
       "      <td>https://p16-sign-sg.tiktokcdn.com/obj/tos-alis...</td>\n",
       "      <td>1024</td>\n",
       "      <td>576</td>\n",
       "      <td>12</td>\n",
       "    </tr>\n",
       "    <tr>\n",
       "      <th>999</th>\n",
       "      <td>6899116261746281730</td>\n",
       "      <td>The collab you didn’t know you needed, myself ...</td>\n",
       "      <td>1606325682</td>\n",
       "      <td>https://www.tiktok.com/@erinwilliams_1/video/6...</td>\n",
       "      <td>https://v77.tiktokcdn.com/a6a5e4b4310213520be7...</td>\n",
       "      <td></td>\n",
       "      <td>58900</td>\n",
       "      <td>235</td>\n",
       "      <td>309000</td>\n",
       "      <td>874</td>\n",
       "      <td>...</td>\n",
       "      <td>https://sf77-sg.tiktokcdn.com/obj/tiktok-obj/7...</td>\n",
       "      <td>https://p77-sg.tiktokcdn.com/aweme/100x100/tos...</td>\n",
       "      <td>https://p77-sg.tiktokcdn.com/aweme/200x200/tos...</td>\n",
       "      <td>https://p77-sg.tiktokcdn.com/aweme/720x720/tos...</td>\n",
       "      <td>https://p16-sign-sg.tiktokcdn.com/tos-alisg-p-...</td>\n",
       "      <td>https://p16-sign-sg.tiktokcdn.com/obj/tos-alis...</td>\n",
       "      <td>https://p16-sign-sg.tiktokcdn.com/obj/tos-alis...</td>\n",
       "      <td>1022</td>\n",
       "      <td>576</td>\n",
       "      <td>14</td>\n",
       "    </tr>\n",
       "  </tbody>\n",
       "</table>\n",
       "<p>1000 rows × 34 columns</p>\n",
       "</div>"
      ],
      "text/plain": [
       "                      id                                               text  \\\n",
       "0    6907228749016714497                                  Confidence went 📈   \n",
       "1    6875468410612993286  Quiet Zone... follow me on insta: joeysofo. Co...   \n",
       "2    6898699405898059010  Iphone bend test🤗 #tiktok #viral #fyp #iphone ...   \n",
       "3    6902819837345533186                                                      \n",
       "4    6905635666588192002                           小技です👟✨#tiktok教室#tutorial   \n",
       "..                   ...                                                ...   \n",
       "995  6877191692341054721                                #foryou #foryoupage   \n",
       "996  6908069845825359109  Stop eating 💩 #gttfg #gotothegym #swolefam #nu...   \n",
       "997  6883484287434378497                            #fy #foryoupage #foryou   \n",
       "998  6898721943978036481                     regretss 📈 #fyp #foryou #curls   \n",
       "999  6899116261746281730  The collab you didn’t know you needed, myself ...   \n",
       "\n",
       "     createTime                                        webVideoUrl  \\\n",
       "0    1608214517  https://www.tiktok.com/@ninakleij/video/690722...   \n",
       "1    1600819763  https://www.tiktok.com/@joeysofo/video/6875468...   \n",
       "2    1606228625  https://www.tiktok.com/@jackeyephone/video/689...   \n",
       "3    1607187987  https://www.tiktok.com/@naomivaneeren/video/69...   \n",
       "4    1607843600  https://www.tiktok.com/@io.dreamer_mk/video/69...   \n",
       "..          ...                                                ...   \n",
       "995  1601220970  https://www.tiktok.com/@artistmiranda/video/68...   \n",
       "996  1608410366  https://www.tiktok.com/@papaswolio/video/69080...   \n",
       "997  1602686079  https://www.tiktok.com/@sanaelfarah/video/6883...   \n",
       "998  1606233872  https://www.tiktok.com/@safae.kx/video/6898721...   \n",
       "999  1606325682  https://www.tiktok.com/@erinwilliams_1/video/6...   \n",
       "\n",
       "                                              videoUrl videoUrlNoWaterMark  \\\n",
       "0    https://v77.tiktokcdn.com/ed1f811617d7b5e18b8d...                       \n",
       "1    https://v77.tiktokcdn.com/ab935f1975cb8b69aebf...                       \n",
       "2    https://v21.tiktokcdn.com/video/tos/alisg/tos-...                       \n",
       "3    https://v21.tiktokcdn.com/video/tos/alisg/tos-...                       \n",
       "4    https://v77.tiktokcdn.com/7622979a5ceb97c6da4e...                       \n",
       "..                                                 ...                 ...   \n",
       "995  https://v77.tiktokcdn.com/12644d87ac40de1c1ab2...                       \n",
       "996  https://v77.tiktokcdn.com/740d0b0889f43900715c...                       \n",
       "997  https://v77.tiktokcdn.com/eed7b93664d2cfa5b122...                       \n",
       "998  https://v77.tiktokcdn.com/a402298fb8ed593ed456...                       \n",
       "999  https://v77.tiktokcdn.com/a6a5e4b4310213520be7...                       \n",
       "\n",
       "    diggCount shareCount playCount commentCount  ...  \\\n",
       "0        3710         50     44800           68  ...   \n",
       "1       55700       1817    838100          936  ...   \n",
       "2      936200      21100  15300000        27100  ...   \n",
       "3       12900        197     94900          143  ...   \n",
       "4        8805        198    115300           52  ...   \n",
       "..        ...        ...       ...          ...  ...   \n",
       "995     13300        152    129300          111  ...   \n",
       "996     12200        223     80700          321  ...   \n",
       "997     26600       3392    449300          668  ...   \n",
       "998     10000        111     72200          274  ...   \n",
       "999     58900        235    309000          874  ...   \n",
       "\n",
       "                                         music_playUrl  \\\n",
       "0    https://sf16-sg.tiktokcdn.com/obj/tos-alisg-v-...   \n",
       "1    https://sf77-sg.tiktokcdn.com/obj/musically-ma...   \n",
       "2    https://sf16-sg.tiktokcdn.com/obj/tos-alisg-v-...   \n",
       "3    https://sf16-sg.tiktokcdn.com/obj/musically-ma...   \n",
       "4    https://sf77-sg.tiktokcdn.com/obj/musically-ma...   \n",
       "..                                                 ...   \n",
       "995  https://sf77-sg.tiktokcdn.com/obj/musically-ma...   \n",
       "996  https://sf16-sg.tiktokcdn.com/obj/musically-ma...   \n",
       "997  https://sf16-sg.tiktokcdn.com/obj/musically-ma...   \n",
       "998  https://sf16-sg.tiktokcdn.com/obj/musically-ma...   \n",
       "999  https://sf77-sg.tiktokcdn.com/obj/tiktok-obj/7...   \n",
       "\n",
       "                                      music_coverThumb  \\\n",
       "0    https://p77-sg.tiktokcdn.com/aweme/100x100/tos...   \n",
       "1    https://p16-sign-sg.tiktokcdn.com/musically-ma...   \n",
       "2    https://p77-sg.tiktokcdn.com/aweme/100x100/tos...   \n",
       "3    https://p16-sign-va.tiktokcdn.com/musically-ma...   \n",
       "4    https://p16-sign-sg.tiktokcdn.com/musically-ma...   \n",
       "..                                                 ...   \n",
       "995  https://p16-sign-sg.tiktokcdn.com/musically-ma...   \n",
       "996  https://p16-sign-va.tiktokcdn.com/musically-ma...   \n",
       "997  https://p16-sign-sg.tiktokcdn.com/aweme/100x10...   \n",
       "998  https://p16-sign-va.tiktokcdn.com/musically-ma...   \n",
       "999  https://p77-sg.tiktokcdn.com/aweme/100x100/tos...   \n",
       "\n",
       "                                     music_coverMedium  \\\n",
       "0    https://p77-sg.tiktokcdn.com/aweme/200x200/tos...   \n",
       "1    https://p77-sign-sg.tiktokcdn.com/musically-ma...   \n",
       "2    https://p77-sg.tiktokcdn.com/aweme/200x200/tos...   \n",
       "3    https://p16-sign-va.tiktokcdn.com/musically-ma...   \n",
       "4    https://p16-sign-sg.tiktokcdn.com/musically-ma...   \n",
       "..                                                 ...   \n",
       "995  https://p77-sign-sg.tiktokcdn.com/musically-ma...   \n",
       "996  https://p16-sign-va.tiktokcdn.com/musically-ma...   \n",
       "997  https://p16-sign-sg.tiktokcdn.com/aweme/720x72...   \n",
       "998  https://p16-sign-va.tiktokcdn.com/musically-ma...   \n",
       "999  https://p77-sg.tiktokcdn.com/aweme/200x200/tos...   \n",
       "\n",
       "                                      music_coverLarge  \\\n",
       "0    https://p77-sg.tiktokcdn.com/aweme/720x720/tos...   \n",
       "1    https://p77-sign-sg.tiktokcdn.com/musically-ma...   \n",
       "2    https://p77-sg.tiktokcdn.com/aweme/720x720/tos...   \n",
       "3    https://p16-sign-va.tiktokcdn.com/musically-ma...   \n",
       "4    https://p16-sign-sg.tiktokcdn.com/musically-ma...   \n",
       "..                                                 ...   \n",
       "995  https://p16-sign-sg.tiktokcdn.com/musically-ma...   \n",
       "996  https://p16-sign-va.tiktokcdn.com/musically-ma...   \n",
       "997  https://p16-sign-sg.tiktokcdn.com/aweme/1080x1...   \n",
       "998  https://p16-sign-va.tiktokcdn.com/musically-ma...   \n",
       "999  https://p77-sg.tiktokcdn.com/aweme/720x720/tos...   \n",
       "\n",
       "                                        covers_default  \\\n",
       "0    https://p16-sign-sg.tiktokcdn.com/obj/tos-alis...   \n",
       "1    https://p16-sign-sg.tiktokcdn.com/obj/tos-mali...   \n",
       "2    https://p16-sign-sg.tiktokcdn.com/obj/tos-alis...   \n",
       "3    https://p16-sign-sg.tiktokcdn.com/obj/tos-alis...   \n",
       "4    https://p16-sign-sg.tiktokcdn.com/obj/tos-alis...   \n",
       "..                                                 ...   \n",
       "995  https://p16-sign-sg.tiktokcdn.com/obj/tos-alis...   \n",
       "996  https://p16-sign-sg.tiktokcdn.com/obj/tos-mali...   \n",
       "997  https://p16-sign-sg.tiktokcdn.com/obj/tos-alis...   \n",
       "998  https://p16-sign-sg.tiktokcdn.com/obj/tos-alis...   \n",
       "999  https://p16-sign-sg.tiktokcdn.com/tos-alisg-p-...   \n",
       "\n",
       "                                         covers_origin  \\\n",
       "0    https://p16-sign-sg.tiktokcdn.com/obj/tos-alis...   \n",
       "1    https://p16-sign-sg.tiktokcdn.com/obj/tos-mali...   \n",
       "2    https://p16-sign-sg.tiktokcdn.com/obj/tos-alis...   \n",
       "3    https://p16-sign-sg.tiktokcdn.com/obj/tos-alis...   \n",
       "4    https://p16-sign-sg.tiktokcdn.com/obj/tos-alis...   \n",
       "..                                                 ...   \n",
       "995  https://p16-sign-sg.tiktokcdn.com/obj/tos-alis...   \n",
       "996  https://p16-sign-sg.tiktokcdn.com/obj/tos-mali...   \n",
       "997  https://p16-sign-sg.tiktokcdn.com/obj/tos-alis...   \n",
       "998  https://p16-sign-sg.tiktokcdn.com/obj/tos-alis...   \n",
       "999  https://p16-sign-sg.tiktokcdn.com/obj/tos-alis...   \n",
       "\n",
       "                                        covers_dynamic  video_height  \\\n",
       "0    https://p16-sign-sg.tiktokcdn.com/obj/tos-alis...          1024   \n",
       "1    https://p16-sign-sg.tiktokcdn.com/obj/tos-mali...          1024   \n",
       "2    https://p16-sign-sg.tiktokcdn.com/obj/tos-alis...           960   \n",
       "3    https://p16-sign-sg.tiktokcdn.com/obj/tos-alis...          1024   \n",
       "4    https://p16-sign-sg.tiktokcdn.com/obj/tos-alis...          1024   \n",
       "..                                                 ...           ...   \n",
       "995  https://p16-sign-sg.tiktokcdn.com/obj/tos-alis...          1024   \n",
       "996  https://p16-sign-sg.tiktokcdn.com/obj/tos-mali...          1024   \n",
       "997  https://p16-sign-sg.tiktokcdn.com/obj/tos-alis...          1024   \n",
       "998  https://p16-sign-sg.tiktokcdn.com/obj/tos-alis...          1024   \n",
       "999  https://p16-sign-sg.tiktokcdn.com/obj/tos-alis...          1022   \n",
       "\n",
       "    video_width video_duration  \n",
       "0           576             15  \n",
       "1           576             11  \n",
       "2           540             19  \n",
       "3           576             13  \n",
       "4           576             22  \n",
       "..          ...            ...  \n",
       "995         576             13  \n",
       "996         576             20  \n",
       "997         576             13  \n",
       "998         576             12  \n",
       "999         576             14  \n",
       "\n",
       "[1000 rows x 34 columns]"
      ]
     },
     "execution_count": 10,
     "metadata": {},
     "output_type": "execute_result"
    }
   ],
   "source": [
    "df"
   ]
  },
  {
   "cell_type": "code",
   "execution_count": 11,
   "id": "2a5f8ca5",
   "metadata": {
    "ExecuteTime": {
     "end_time": "2021-11-16T01:02:08.080312Z",
     "start_time": "2021-11-16T01:02:08.073204Z"
    }
   },
   "outputs": [],
   "source": [
    "# (7) Change the string to time format \n",
    "df['createTime']=[time.strftime('%Y-%m-%d %I:%M:%S', time.localtime(i)) for i in df['createTime']]"
   ]
  },
  {
   "cell_type": "code",
   "execution_count": 12,
   "id": "f31ec65e",
   "metadata": {
    "ExecuteTime": {
     "end_time": "2021-11-16T01:02:08.194622Z",
     "start_time": "2021-11-16T01:02:08.188390Z"
    }
   },
   "outputs": [],
   "source": [
    "# (8) Further change the time to date format \n",
    "df['Date'] = pd.to_datetime(df['createTime'], errors='coerce')"
   ]
  },
  {
   "cell_type": "code",
   "execution_count": 13,
   "id": "7da99cef",
   "metadata": {
    "ExecuteTime": {
     "end_time": "2021-11-16T01:02:08.305880Z",
     "start_time": "2021-11-16T01:02:08.298459Z"
    }
   },
   "outputs": [],
   "source": [
    "# (9) Extract the weekday in integer from the date \n",
    "df['Week Day'] = df['Date'].dt.dayofweek"
   ]
  },
  {
   "cell_type": "code",
   "execution_count": 14,
   "id": "4cf71e8f",
   "metadata": {
    "ExecuteTime": {
     "end_time": "2021-11-16T01:02:08.416920Z",
     "start_time": "2021-11-16T01:02:08.410102Z"
    }
   },
   "outputs": [],
   "source": [
    "# (10) Classify and map the weekday in integer to weekday in words\n",
    "dw_mapping={\n",
    "    0: 'Monday', \n",
    "    1: 'Tuesday', \n",
    "    2: 'Wednesday', \n",
    "    3: 'Thursday', \n",
    "    4: 'Friday',\n",
    "    5: 'Saturday', \n",
    "    6: 'Sunday'\n",
    "} \n",
    "df['Day of Week']=df['Date'].dt.weekday.map(dw_mapping)"
   ]
  },
  {
   "cell_type": "code",
   "execution_count": 15,
   "id": "abb41b4c",
   "metadata": {
    "ExecuteTime": {
     "end_time": "2021-11-16T01:02:08.525518Z",
     "start_time": "2021-11-16T01:02:08.518123Z"
    }
   },
   "outputs": [],
   "source": [
    "# (11) Extract the posting time from date \n",
    "df['Posting Time'] = df['Date'].dt.time"
   ]
  },
  {
   "cell_type": "code",
   "execution_count": 16,
   "id": "88641919",
   "metadata": {
    "ExecuteTime": {
     "end_time": "2021-11-16T01:02:08.633159Z",
     "start_time": "2021-11-16T01:02:08.628876Z"
    }
   },
   "outputs": [],
   "source": [
    "# (12) Extract the posting hour from date\n",
    "df['Posting Hour'] = df['Date'].dt.hour"
   ]
  },
  {
   "cell_type": "code",
   "execution_count": 17,
   "id": "579a847b",
   "metadata": {
    "ExecuteTime": {
     "end_time": "2021-11-16T01:02:08.743806Z",
     "start_time": "2021-11-16T01:02:08.736875Z"
    }
   },
   "outputs": [],
   "source": [
    "# (13) Convert the posting hour to actual format of hour\n",
    "df[\"Hour\"] = pd.to_datetime(df['Date'],format='%H').dt.time"
   ]
  },
  {
   "cell_type": "code",
   "execution_count": 18,
   "id": "07d55006",
   "metadata": {
    "ExecuteTime": {
     "end_time": "2021-11-16T01:02:08.920763Z",
     "start_time": "2021-11-16T01:02:08.851526Z"
    }
   },
   "outputs": [],
   "source": [
    "# (13) Export the data to csv\n",
    "df.to_csv(\"tiktok_11_Nov.csv\", index=False)"
   ]
  },
  {
   "cell_type": "code",
   "execution_count": 19,
   "id": "ea40d2b7",
   "metadata": {
    "ExecuteTime": {
     "end_time": "2021-11-16T01:02:09.032431Z",
     "start_time": "2021-11-16T01:02:09.021797Z"
    }
   },
   "outputs": [],
   "source": [
    "# (14) Read relevant file to produce heatmap\n",
    "df2 = pd.read_csv(\"hourSummary.csv\")"
   ]
  },
  {
   "cell_type": "code",
   "execution_count": 20,
   "id": "0fc4bd67",
   "metadata": {
    "ExecuteTime": {
     "end_time": "2021-11-16T01:02:09.164313Z",
     "start_time": "2021-11-16T01:02:09.150784Z"
    }
   },
   "outputs": [],
   "source": [
    "# (15) Pivot Posting Hour, Day of Week and Sum of playCount\n",
    "df_new = df2.pivot('Posting Hour','Day of Week','Sum of playCount')"
   ]
  },
  {
   "cell_type": "code",
   "execution_count": 21,
   "id": "71a9f556",
   "metadata": {
    "ExecuteTime": {
     "end_time": "2021-11-16T01:02:09.300021Z",
     "start_time": "2021-11-16T01:02:09.292772Z"
    }
   },
   "outputs": [],
   "source": [
    "# (16) Normalized the data to remove outliers\n",
    "df_new_1 = df_new[(np.abs(stats.zscore(df_new)) < 2).all(axis=1)]"
   ]
  },
  {
   "cell_type": "code",
   "execution_count": 66,
   "id": "bcae380f",
   "metadata": {
    "ExecuteTime": {
     "end_time": "2021-11-16T01:24:27.778800Z",
     "start_time": "2021-11-16T01:24:27.769658Z"
    }
   },
   "outputs": [],
   "source": [
    "# (17) Export normalized data to csv\n",
    "df_new_1.to_csv(\"for_heatmap.csv\", index=True)"
   ]
  },
  {
   "cell_type": "code",
   "execution_count": 92,
   "id": "680a2021",
   "metadata": {
    "ExecuteTime": {
     "end_time": "2021-11-16T01:49:39.404459Z",
     "start_time": "2021-11-16T01:49:39.393247Z"
    }
   },
   "outputs": [],
   "source": [
    "# (18) Reimport the normalized data in csv after adding rows to make it to 24 hours\n",
    "df_hm = pd.read_csv(\"for_heatmap.csv\")"
   ]
  },
  {
   "cell_type": "code",
   "execution_count": 93,
   "id": "3325e0bd",
   "metadata": {
    "ExecuteTime": {
     "end_time": "2021-11-16T01:49:40.315246Z",
     "start_time": "2021-11-16T01:49:40.284833Z"
    }
   },
   "outputs": [],
   "source": [
    "# (19) Pivot and create heatmap data\n",
    "hp_data = pd.pivot_table(df_hm, \n",
    "                     columns='Posting Hour')"
   ]
  },
  {
   "cell_type": "code",
   "execution_count": 232,
   "id": "a2e4adac",
   "metadata": {
    "ExecuteTime": {
     "end_time": "2021-11-16T02:36:31.545581Z",
     "start_time": "2021-11-16T02:36:31.050647Z"
    }
   },
   "outputs": [
    {
     "data": {
      "text/plain": [
       "Text(0.5, 1.0, 'Viewing Pattern of Tiktok Videos')"
      ]
     },
     "execution_count": 232,
     "metadata": {},
     "output_type": "execute_result"
    },
    {
     "data": {
      "image/png": "[encoded data removed]",
      "text/plain": [
       "<Figure size 1440x648 with 2 Axes>"
      ]
     },
     "metadata": {},
     "output_type": "display_data"
    }
   ],
   "source": [
    "# (20) Create heatmap \n",
    "\n",
    "## Create a figure with subplot\n",
    "fig, ax = plt.subplots(figsize=(20,9)) \n",
    "\n",
    "## Annotate certain data points with top views above 3 million (threshold)\n",
    "label = ([['', '', '4.6 M','','','','','','','','','','','','','4.8 M','','','4.1 M','','','','',''],\n",
    "          ['', '4.5 M', '','','','','','','','11.0 M','','','','','','','','','25.6 M','','','','',''],\n",
    "          ['', '', '3.8 M','','','','','','','','3.9 M','','','','','','','','7.3 M','','','','3.2 M','3.3 M'],\n",
    "          ['', '', '','','','','','','','','','','','','','15.7 M','','','3.8 M','','','','','4.1 M'],\n",
    "          ['', '', '','','','','','','','','','','','','','10.7 M','','','','','','4.2 M','',''],\n",
    "          ['', '', '','','','','','','','','','','','','','','','','','','','','',''],\n",
    "          ['', '', '','','','3.8 M','','4.5 M','','','7.4 M','','','','','','','','7.3 M','','','7.6 M','','']])\n",
    "\n",
    "## Set the scale of the font\n",
    "sns.set(font_scale=1.2)\n",
    "\n",
    "## Plot heatmap\n",
    "sns.heatmap(hp_data, annot=label,fmt=\"\", cmap=\"plasma\", vmin=0, vmax=25600000, linewidths=0.5, linecolor=\"blue\", cbar_kws={'label': 'PlayCount','orientation': 'horizontal'}, ax=ax)\n",
    "\n",
    "## Label the heatmap \n",
    "plt.ylabel('Day of Week', color=\"Purple\", fontsize=20)\n",
    "plt.xlabel('Time of Day', color=\"Purple\", fontsize=20)\n",
    "plt.title('Viewing Pattern of Tiktok Videos', color=\"Purple\", fontsize=24)\n"
   ]
  },
  {
   "cell_type": "code",
   "execution_count": null,
   "id": "a8436042",
   "metadata": {},
   "outputs": [],
   "source": []
  }
 ],
 "metadata": {
  "kernelspec": {
   "display_name": "Python 3 (ipykernel)",
   "language": "python",
   "name": "python3"
  },
  "language_info": {
   "codemirror_mode": {
    "name": "ipython",
    "version": 3
   },
   "file_extension": ".py",
   "mimetype": "text/x-python",
   "name": "python",
   "nbconvert_exporter": "python",
   "pygments_lexer": "ipython3",
   "version": "3.8.12"
  },
  "toc": {
   "base_numbering": 1,
   "nav_menu": {},
   "number_sections": true,
   "sideBar": true,
   "skip_h1_title": false,
   "title_cell": "Table of Contents",
   "title_sidebar": "Contents",
   "toc_cell": false,
   "toc_position": {},
   "toc_section_display": true,
   "toc_window_display": false
  },
  "varInspector": {
   "cols": {
    "lenName": 16,
    "lenType": 16,
    "lenVar": 40
   },
   "kernels_config": {
    "python": {
     "delete_cmd_postfix": "",
     "delete_cmd_prefix": "del ",
     "library": "var_list.py",
     "varRefreshCmd": "print(var_dic_list())"
    },
    "r": {
     "delete_cmd_postfix": ") ",
     "delete_cmd_prefix": "rm(",
     "library": "var_list.r",
     "varRefreshCmd": "cat(var_dic_list()) "
    }
   },
   "types_to_exclude": [
    "module",
    "function",
    "builtin_function_or_method",
    "instance",
    "_Feature"
   ],
   "window_display": false
  }
 },
 "nbformat": 4,
 "nbformat_minor": 5
}
